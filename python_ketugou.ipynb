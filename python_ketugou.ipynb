{
  "nbformat": 4,
  "nbformat_minor": 0,
  "metadata": {
    "colab": {
      "name": "python ketugou.ipynb",
      "provenance": [],
      "collapsed_sections": [],
      "mount_file_id": "15VxK6seR_2dzrcJQPbkdnrTWSTN7B4uy",
      "authorship_tag": "ABX9TyMnfU3SOrGI7heDS2AvujAm",
      "include_colab_link": true
    },
    "kernelspec": {
      "name": "python3",
      "display_name": "Python 3"
    },
    "language_info": {
      "name": "python"
    },
    "accelerator": "GPU"
  },
  "cells": [
    {
      "cell_type": "markdown",
      "metadata": {
        "id": "view-in-github",
        "colab_type": "text"
      },
      "source": [
        "<a href=\"https://colab.research.google.com/github/sho20204114/20204114/blob/master/python_ketugou.ipynb\" target=\"_parent\"><img src=\"https://colab.research.google.com/assets/colab-badge.svg\" alt=\"Open In Colab\"/></a>"
      ]
    },
    {
      "cell_type": "markdown",
      "source": [
        "①必要・不必要なライブラリをインストール・アンインストールする（ノートを開いたときのみ実行する）。\n",
        "\n",
        "また、必ずGPUが使用できる状態にしておく"
      ],
      "metadata": {
        "id": "XpCkQ7FDXZll"
      }
    },
    {
      "cell_type": "code",
      "source": [
        "from google.colab import drive\n",
        "drive.mount('/content/drive')"
      ],
      "metadata": {
        "colab": {
          "base_uri": "https://localhost:8080/"
        },
        "id": "WVglUiq0U-ZJ",
        "outputId": "ed65feb0-4154-45f2-b15c-89a01316a3e3"
      },
      "execution_count": 1,
      "outputs": [
        {
          "output_type": "stream",
          "name": "stdout",
          "text": [
            "Drive already mounted at /content/drive; to attempt to forcibly remount, call drive.mount(\"/content/drive\", force_remount=True).\n"
          ]
        }
      ]
    },
    {
      "cell_type": "markdown",
      "source": [
        ""
      ],
      "metadata": {
        "id": "s_tRAyUyXbPL"
      }
    },
    {
      "cell_type": "code",
      "execution_count": 1,
      "metadata": {
        "colab": {
          "base_uri": "https://localhost:8080/"
        },
        "id": "QWjC7nEyou_-",
        "outputId": "53b74822-924a-4629-e7d3-62160cf2cef9"
      },
      "outputs": [
        {
          "output_type": "stream",
          "name": "stdout",
          "text": [
            "numpy                         1.18.5\n",
            "Looking in indexes: https://pypi.org/simple, https://us-python.pkg.dev/colab-wheels/public/simple/\n",
            "Requirement already satisfied: numba in /usr/local/lib/python3.7/dist-packages (0.55.2)\n",
            "Requirement already satisfied: setuptools in /usr/local/lib/python3.7/dist-packages (from numba) (57.4.0)\n",
            "Requirement already satisfied: numpy<1.23,>=1.18 in /usr/local/lib/python3.7/dist-packages (from numba) (1.18.5)\n",
            "Requirement already satisfied: llvmlite<0.39,>=0.38.0rc1 in /usr/local/lib/python3.7/dist-packages (from numba) (0.38.1)\n",
            "kapre 0.3.7 requires tensorflow, which is not installed.\n",
            "xarray-einstats 0.2.2 has requirement numpy>=1.21, but you have numpy 1.18.5.\n",
            "tables 3.7.0 has requirement numpy>=1.19.0, but you have numpy 1.18.5.\n",
            "nbclient 0.6.4 has requirement jupyter-client>=6.1.5, but you have jupyter-client 5.3.5.\n",
            "nbclient 0.6.4 has requirement traitlets>=5.2.2, but you have traitlets 5.1.1.\n",
            "jaxlib 0.3.7+cuda11.cudnn805 has requirement numpy>=1.19, but you have numpy 1.18.5.\n",
            "jax 0.3.8 has requirement numpy>=1.19, but you have numpy 1.18.5.\n",
            "datascience 0.10.6 has requirement folium==0.2.1, but you have folium 0.8.3.\n",
            "albumentations 0.1.12 has requirement imgaug<0.2.7,>=0.2.5, but you have imgaug 0.2.9.\n",
            "/bin/bash: conda: command not found\n"
          ]
        }
      ],
      "source": [
        "!pip list | grep numpy\n",
        "!pip install -U numba\n",
        "!pip check\n",
        "!conda install numpy==1.19.5"
      ]
    },
    {
      "cell_type": "code",
      "source": [
        "!pip uninstall tensorflow -y\n",
        "!pip install pydub\n",
        "!pip install natsort\n",
        "!pip install spleeter-gpu==2.0.2"
      ],
      "metadata": {
        "colab": {
          "base_uri": "https://localhost:8080/"
        },
        "id": "9iM15C00pSUp",
        "outputId": "aa279f99-61c7-4437-d139-4327b906622f"
      },
      "execution_count": 2,
      "outputs": [
        {
          "output_type": "stream",
          "name": "stdout",
          "text": [
            "\u001b[33mWARNING: Skipping tensorflow as it is not installed.\u001b[0m\n",
            "Looking in indexes: https://pypi.org/simple, https://us-python.pkg.dev/colab-wheels/public/simple/\n",
            "Requirement already satisfied: pydub in /usr/local/lib/python3.7/dist-packages (0.25.1)\n",
            "Looking in indexes: https://pypi.org/simple, https://us-python.pkg.dev/colab-wheels/public/simple/\n",
            "Requirement already satisfied: natsort in /usr/local/lib/python3.7/dist-packages (5.5.0)\n",
            "Looking in indexes: https://pypi.org/simple, https://us-python.pkg.dev/colab-wheels/public/simple/\n",
            "Requirement already satisfied: spleeter-gpu==2.0.2 in /usr/local/lib/python3.7/dist-packages (2.0.2)\n",
            "Requirement already satisfied: librosa==0.8.0 in /usr/local/lib/python3.7/dist-packages (from spleeter-gpu==2.0.2) (0.8.0)\n",
            "Requirement already satisfied: pandas==1.1.2 in /usr/local/lib/python3.7/dist-packages (from spleeter-gpu==2.0.2) (1.1.2)\n",
            "Requirement already satisfied: norbert==0.2.1 in /usr/local/lib/python3.7/dist-packages (from spleeter-gpu==2.0.2) (0.2.1)\n",
            "Requirement already satisfied: scipy==1.4.1 in /usr/local/lib/python3.7/dist-packages (from spleeter-gpu==2.0.2) (1.4.1)\n",
            "Requirement already satisfied: requests in /usr/local/lib/python3.7/dist-packages (from spleeter-gpu==2.0.2) (2.23.0)\n",
            "Requirement already satisfied: tensorflow-gpu==2.3.0 in /usr/local/lib/python3.7/dist-packages (from spleeter-gpu==2.0.2) (2.3.0)\n",
            "Requirement already satisfied: setuptools>=41.0.0 in /usr/local/lib/python3.7/dist-packages (from spleeter-gpu==2.0.2) (57.4.0)\n",
            "Requirement already satisfied: ffmpeg-python==0.2.0 in /usr/local/lib/python3.7/dist-packages (from spleeter-gpu==2.0.2) (0.2.0)\n",
            "Requirement already satisfied: numpy<1.19.0,>=1.16.0 in /usr/local/lib/python3.7/dist-packages (from spleeter-gpu==2.0.2) (1.18.5)\n",
            "Requirement already satisfied: future in /usr/local/lib/python3.7/dist-packages (from ffmpeg-python==0.2.0->spleeter-gpu==2.0.2) (0.16.0)\n",
            "Requirement already satisfied: decorator>=3.0.0 in /usr/local/lib/python3.7/dist-packages (from librosa==0.8.0->spleeter-gpu==2.0.2) (4.4.2)\n",
            "Requirement already satisfied: pooch>=1.0 in /usr/local/lib/python3.7/dist-packages (from librosa==0.8.0->spleeter-gpu==2.0.2) (1.6.0)\n",
            "Requirement already satisfied: scikit-learn!=0.19.0,>=0.14.0 in /usr/local/lib/python3.7/dist-packages (from librosa==0.8.0->spleeter-gpu==2.0.2) (1.0.2)\n",
            "Requirement already satisfied: audioread>=2.0.0 in /usr/local/lib/python3.7/dist-packages (from librosa==0.8.0->spleeter-gpu==2.0.2) (2.1.9)\n",
            "Requirement already satisfied: joblib>=0.14 in /usr/local/lib/python3.7/dist-packages (from librosa==0.8.0->spleeter-gpu==2.0.2) (1.1.0)\n",
            "Requirement already satisfied: resampy>=0.2.2 in /usr/local/lib/python3.7/dist-packages (from librosa==0.8.0->spleeter-gpu==2.0.2) (0.2.2)\n",
            "Requirement already satisfied: soundfile>=0.9.0 in /usr/local/lib/python3.7/dist-packages (from librosa==0.8.0->spleeter-gpu==2.0.2) (0.10.3.post1)\n",
            "Requirement already satisfied: numba>=0.43.0 in /usr/local/lib/python3.7/dist-packages (from librosa==0.8.0->spleeter-gpu==2.0.2) (0.55.2)\n",
            "Requirement already satisfied: pytz>=2017.2 in /usr/local/lib/python3.7/dist-packages (from pandas==1.1.2->spleeter-gpu==2.0.2) (2022.1)\n",
            "Requirement already satisfied: python-dateutil>=2.7.3 in /usr/local/lib/python3.7/dist-packages (from pandas==1.1.2->spleeter-gpu==2.0.2) (2.8.2)\n",
            "Requirement already satisfied: termcolor>=1.1.0 in /usr/local/lib/python3.7/dist-packages (from tensorflow-gpu==2.3.0->spleeter-gpu==2.0.2) (1.1.0)\n",
            "Requirement already satisfied: opt-einsum>=2.3.2 in /usr/local/lib/python3.7/dist-packages (from tensorflow-gpu==2.3.0->spleeter-gpu==2.0.2) (3.3.0)\n",
            "Requirement already satisfied: google-pasta>=0.1.8 in /usr/local/lib/python3.7/dist-packages (from tensorflow-gpu==2.3.0->spleeter-gpu==2.0.2) (0.2.0)\n",
            "Requirement already satisfied: astunparse==1.6.3 in /usr/local/lib/python3.7/dist-packages (from tensorflow-gpu==2.3.0->spleeter-gpu==2.0.2) (1.6.3)\n",
            "Requirement already satisfied: tensorflow-estimator<2.4.0,>=2.3.0 in /usr/local/lib/python3.7/dist-packages (from tensorflow-gpu==2.3.0->spleeter-gpu==2.0.2) (2.3.0)\n",
            "Requirement already satisfied: wheel>=0.26 in /usr/local/lib/python3.7/dist-packages (from tensorflow-gpu==2.3.0->spleeter-gpu==2.0.2) (0.37.1)\n",
            "Requirement already satisfied: h5py<2.11.0,>=2.10.0 in /usr/local/lib/python3.7/dist-packages (from tensorflow-gpu==2.3.0->spleeter-gpu==2.0.2) (2.10.0)\n",
            "Requirement already satisfied: protobuf>=3.9.2 in /usr/local/lib/python3.7/dist-packages (from tensorflow-gpu==2.3.0->spleeter-gpu==2.0.2) (3.17.3)\n",
            "Requirement already satisfied: wrapt>=1.11.1 in /usr/local/lib/python3.7/dist-packages (from tensorflow-gpu==2.3.0->spleeter-gpu==2.0.2) (1.14.1)\n",
            "Requirement already satisfied: grpcio>=1.8.6 in /usr/local/lib/python3.7/dist-packages (from tensorflow-gpu==2.3.0->spleeter-gpu==2.0.2) (1.46.3)\n",
            "Requirement already satisfied: keras-preprocessing<1.2,>=1.1.1 in /usr/local/lib/python3.7/dist-packages (from tensorflow-gpu==2.3.0->spleeter-gpu==2.0.2) (1.1.2)\n",
            "Requirement already satisfied: tensorboard<3,>=2.3.0 in /usr/local/lib/python3.7/dist-packages (from tensorflow-gpu==2.3.0->spleeter-gpu==2.0.2) (2.8.0)\n",
            "Requirement already satisfied: gast==0.3.3 in /usr/local/lib/python3.7/dist-packages (from tensorflow-gpu==2.3.0->spleeter-gpu==2.0.2) (0.3.3)\n",
            "Requirement already satisfied: six>=1.12.0 in /usr/local/lib/python3.7/dist-packages (from tensorflow-gpu==2.3.0->spleeter-gpu==2.0.2) (1.15.0)\n",
            "Requirement already satisfied: absl-py>=0.7.0 in /usr/local/lib/python3.7/dist-packages (from tensorflow-gpu==2.3.0->spleeter-gpu==2.0.2) (1.0.0)\n",
            "Requirement already satisfied: llvmlite<0.39,>=0.38.0rc1 in /usr/local/lib/python3.7/dist-packages (from numba>=0.43.0->librosa==0.8.0->spleeter-gpu==2.0.2) (0.38.1)\n",
            "Requirement already satisfied: appdirs>=1.3.0 in /usr/local/lib/python3.7/dist-packages (from pooch>=1.0->librosa==0.8.0->spleeter-gpu==2.0.2) (1.4.4)\n",
            "Requirement already satisfied: packaging>=20.0 in /usr/local/lib/python3.7/dist-packages (from pooch>=1.0->librosa==0.8.0->spleeter-gpu==2.0.2) (21.3)\n",
            "Requirement already satisfied: pyparsing!=3.0.5,>=2.0.2 in /usr/local/lib/python3.7/dist-packages (from packaging>=20.0->pooch>=1.0->librosa==0.8.0->spleeter-gpu==2.0.2) (3.0.9)\n",
            "Requirement already satisfied: urllib3!=1.25.0,!=1.25.1,<1.26,>=1.21.1 in /usr/local/lib/python3.7/dist-packages (from requests->spleeter-gpu==2.0.2) (1.24.3)\n",
            "Requirement already satisfied: chardet<4,>=3.0.2 in /usr/local/lib/python3.7/dist-packages (from requests->spleeter-gpu==2.0.2) (3.0.4)\n",
            "Requirement already satisfied: certifi>=2017.4.17 in /usr/local/lib/python3.7/dist-packages (from requests->spleeter-gpu==2.0.2) (2022.5.18.1)\n",
            "Requirement already satisfied: idna<3,>=2.5 in /usr/local/lib/python3.7/dist-packages (from requests->spleeter-gpu==2.0.2) (2.10)\n",
            "Requirement already satisfied: threadpoolctl>=2.0.0 in /usr/local/lib/python3.7/dist-packages (from scikit-learn!=0.19.0,>=0.14.0->librosa==0.8.0->spleeter-gpu==2.0.2) (3.1.0)\n",
            "Requirement already satisfied: cffi>=1.0 in /usr/local/lib/python3.7/dist-packages (from soundfile>=0.9.0->librosa==0.8.0->spleeter-gpu==2.0.2) (1.15.0)\n",
            "Requirement already satisfied: pycparser in /usr/local/lib/python3.7/dist-packages (from cffi>=1.0->soundfile>=0.9.0->librosa==0.8.0->spleeter-gpu==2.0.2) (2.21)\n",
            "Requirement already satisfied: google-auth<3,>=1.6.3 in /usr/local/lib/python3.7/dist-packages (from tensorboard<3,>=2.3.0->tensorflow-gpu==2.3.0->spleeter-gpu==2.0.2) (1.35.0)\n",
            "Requirement already satisfied: markdown>=2.6.8 in /usr/local/lib/python3.7/dist-packages (from tensorboard<3,>=2.3.0->tensorflow-gpu==2.3.0->spleeter-gpu==2.0.2) (3.3.7)\n",
            "Requirement already satisfied: tensorboard-data-server<0.7.0,>=0.6.0 in /usr/local/lib/python3.7/dist-packages (from tensorboard<3,>=2.3.0->tensorflow-gpu==2.3.0->spleeter-gpu==2.0.2) (0.6.1)\n",
            "Requirement already satisfied: werkzeug>=0.11.15 in /usr/local/lib/python3.7/dist-packages (from tensorboard<3,>=2.3.0->tensorflow-gpu==2.3.0->spleeter-gpu==2.0.2) (1.0.1)\n",
            "Requirement already satisfied: tensorboard-plugin-wit>=1.6.0 in /usr/local/lib/python3.7/dist-packages (from tensorboard<3,>=2.3.0->tensorflow-gpu==2.3.0->spleeter-gpu==2.0.2) (1.8.1)\n",
            "Requirement already satisfied: google-auth-oauthlib<0.5,>=0.4.1 in /usr/local/lib/python3.7/dist-packages (from tensorboard<3,>=2.3.0->tensorflow-gpu==2.3.0->spleeter-gpu==2.0.2) (0.4.6)\n",
            "Requirement already satisfied: rsa<5,>=3.1.4 in /usr/local/lib/python3.7/dist-packages (from google-auth<3,>=1.6.3->tensorboard<3,>=2.3.0->tensorflow-gpu==2.3.0->spleeter-gpu==2.0.2) (4.8)\n",
            "Requirement already satisfied: cachetools<5.0,>=2.0.0 in /usr/local/lib/python3.7/dist-packages (from google-auth<3,>=1.6.3->tensorboard<3,>=2.3.0->tensorflow-gpu==2.3.0->spleeter-gpu==2.0.2) (4.2.4)\n",
            "Requirement already satisfied: pyasn1-modules>=0.2.1 in /usr/local/lib/python3.7/dist-packages (from google-auth<3,>=1.6.3->tensorboard<3,>=2.3.0->tensorflow-gpu==2.3.0->spleeter-gpu==2.0.2) (0.2.8)\n",
            "Requirement already satisfied: requests-oauthlib>=0.7.0 in /usr/local/lib/python3.7/dist-packages (from google-auth-oauthlib<0.5,>=0.4.1->tensorboard<3,>=2.3.0->tensorflow-gpu==2.3.0->spleeter-gpu==2.0.2) (1.3.1)\n",
            "Requirement already satisfied: importlib-metadata>=4.4 in /usr/local/lib/python3.7/dist-packages (from markdown>=2.6.8->tensorboard<3,>=2.3.0->tensorflow-gpu==2.3.0->spleeter-gpu==2.0.2) (4.11.4)\n",
            "Requirement already satisfied: zipp>=0.5 in /usr/local/lib/python3.7/dist-packages (from importlib-metadata>=4.4->markdown>=2.6.8->tensorboard<3,>=2.3.0->tensorflow-gpu==2.3.0->spleeter-gpu==2.0.2) (3.8.0)\n",
            "Requirement already satisfied: typing-extensions>=3.6.4 in /usr/local/lib/python3.7/dist-packages (from importlib-metadata>=4.4->markdown>=2.6.8->tensorboard<3,>=2.3.0->tensorflow-gpu==2.3.0->spleeter-gpu==2.0.2) (4.2.0)\n",
            "Requirement already satisfied: pyasn1<0.5.0,>=0.4.6 in /usr/local/lib/python3.7/dist-packages (from pyasn1-modules>=0.2.1->google-auth<3,>=1.6.3->tensorboard<3,>=2.3.0->tensorflow-gpu==2.3.0->spleeter-gpu==2.0.2) (0.4.8)\n",
            "Requirement already satisfied: oauthlib>=3.0.0 in /usr/local/lib/python3.7/dist-packages (from requests-oauthlib>=0.7.0->google-auth-oauthlib<0.5,>=0.4.1->tensorboard<3,>=2.3.0->tensorflow-gpu==2.3.0->spleeter-gpu==2.0.2) (3.2.0)\n"
          ]
        }
      ]
    },
    {
      "cell_type": "markdown",
      "source": [
        "②関数を定義する（ノートを開いたときのみ実行する）。"
      ],
      "metadata": {
        "id": "-KcVa12fXgRE"
      }
    },
    {
      "cell_type": "code",
      "source": [
        "# 全ての警告文を非表示にする(意味不明なエラー文がめちゃくちゃ出てくるので非表示にします。結果に問題はありません。)\n",
        "import warnings \n",
        "warnings.simplefilter('ignore')\n",
        " \n",
        "# ローカルファイルをアップロードすることができる\n",
        "from google.colab import files\n",
        "\n",
        "import glob\n",
        "import os\n",
        "import re\n",
        "import shutil\n",
        "import sys\n",
        "# リストを自然順アルゴリズムでソートするライブラリ\n",
        "from natsort import natsorted\n",
        "# オーディオファイルを音声処理するモジュール\n",
        "from pydub import AudioSegment \n",
        "# 今回の主役。ディープラーニングを利用しある特定のパートの音のみの抽出するモジュール\n",
        "from spleeter.separator import Separator\n",
        "\n",
        "# 初期化\n",
        "def init():\n",
        "    if os.path.isfile('/content/drive/MyDrive/Colab_Notebooks/tmp_txt.txt') == True:\n",
        "        os.remove('/content/drive/MyDrive/Colab_Notebooks/tmp_txt.txt')\n",
        "        print(\"Deleted the tmp_txt.txt\")\n",
        "    if os.path.isdir('/content/drive/MyDrive/Colab_Notebooks/tmp/') == True:\n",
        "        shutil.rmtree('/content/drive/MyDrive/Colab_Notebooks/tmp/')\n",
        "        print(\"Deleted the tmp folder\")\n",
        "\n",
        "# tmpファイルを削除する\n",
        "def delete_dir():\n",
        "    os.remove('/content/drive/MyDrive/Colab_Notebooks/tmp_txt.txt')\n",
        "    shutil.rmtree('/content/drive/MyDrive/Colab_Notebooks/tmp/')\n",
        "\n",
        "# 音源を.wavに変換する\n",
        "def conv_wav(file_name, cnt):\n",
        "    name = os.path.basename(file_name)\n",
        "    shutil.copyfile(file_name, '/content/drive/MyDrive/Colab_Notebooks/tmp/{}.{}'.format(name, 'wav'))\n",
        "\n",
        "    return name\n",
        "# 入力されたモードから抽出するモードを指定する\n",
        "def separator_mode(mode):\n",
        "    print(mode)\n",
        "    if mode == 2:\n",
        "        print(\"mode{}:Vocal & Instruments\".format(mode))\n",
        "        separator = Separator('spleeter:{}stems'.format(mode))\n",
        "        return separator\n",
        "    elif mode == 4:\n",
        "        print(\"mode{}:Vocal & Bass & Drums\".format(mode))\n",
        "        separator = Separator('spleeter:{}stems'.format(mode))\n",
        "        return separator\n",
        "    elif mode == 5:\n",
        "        print(\"mode{}:Vocal & Piano & Bass & Drums\".format(mode))\n",
        "        separator = Separator('spleeter:{}stems'.format(mode))\n",
        "        return separator\n",
        "    else:\n",
        "        print(\"Invalid number：無効なモードが入力されました。次のどれかを指定してください。[2, 4, 5]\")\n",
        "        return 1"
      ],
      "metadata": {
        "id": "CFaZ9tDkpdRM"
      },
      "execution_count": 3,
      "outputs": []
    },
    {
      "cell_type": "markdown",
      "source": [
        "③音源から各パートを抽出。また実行する際は以下のことを確認する\n",
        "\n",
        "・音源がmusicフォルダに入っているか確認する\n",
        "\n",
        "・spleeter_output内に何も入っていないか（前に作成したファイルが入っている場合上書きされたりして消える場合がある）\n",
        "\n",
        "・音源は英語表記（日本語を使っているとエラーになる場合がある）\n",
        "\n",
        "・抽出するモードは適正か\n",
        "\n",
        "・変換したい音源は一つのフォルダに入れておけば、まとめて処理"
      ],
      "metadata": {
        "id": "7PJbfSlLXj3m"
      }
    },
    {
      "cell_type": "code",
      "source": [
        "def main():\n",
        "    # 抽出するモードを選択\n",
        "    # [2->ボーカル&楽器, 4->ボーカル&ベース&ドラム, 5->ボーカル&ピアノ&ベース&ドラム&それ以外]\n",
        "    mode = 5\n",
        "\n",
        "    # 抽出したい音源が入っているフォルダを指定\n",
        "    target_folder_name = '/content/drive/MyDrive/Colab_Notebooks/music/*'\n",
        "    music_file_name_list = glob.glob(target_folder_name)\n",
        "\n",
        "    cnt = 1\n",
        "\n",
        "    # オーディオファイルを.wavに変換し、tmpフォルダに入れる\n",
        "    for file in natsorted(music_file_name_list):\n",
        "        print(file)\n",
        "        os.makedirs('/content/drive/MyDrive/Colab_Notebooks/tmp', exist_ok=True)\n",
        "        _, ext = os.path.splitext(file)\n",
        "        if not ext == '.wav':\n",
        "            bname = conv_wav(file, cnt)\n",
        "        elif ext == '.wav':\n",
        "            name = os.path.basename(file)\n",
        "            shutil.copyfile(file, '/content/drive/MyDrive/Colab_Notebooks/tmp/{}.wav'.format(name))\n",
        "            bname, _ = os.path.splitext(file)\n",
        "        with open('/content/drive/MyDrive/Colab_Notebooks/tmp_txt.txt', \"a\", encoding='utf-8') as f:\n",
        "            f.write(bname + '\\n')\n",
        "        cnt += 1\n",
        "\n",
        "    tmp_file = '/content/drive/MyDrive/Colab_Notebooks/tmp/*'\n",
        "    file = glob.glob(tmp_file)\n",
        "    # outputフォルダを作成\n",
        "    os.makedirs('/content/drive/MyDrive/Colab_Notebooks/spleeter_output', exist_ok=True)\n",
        "    # tmpフォルダ内のデータを一つずつ取り出し処理する\n",
        "    with open('/content/drive/MyDrive/Colab_Notebooks/tmp_txt.txt') as f:\n",
        "        title_list = f.read().split(\"\\n\")\n",
        "        #title_list = f.read()\n",
        "        for data in natsorted(file):\n",
        "            name = os.path.basename(data)\n",
        "            separator = separator_mode(mode=mode)\n",
        "            if separator == 1:\n",
        "                f.close()\n",
        "                delete_dir()\n",
        "                sys.exit()\n",
        "            # 指定されたモードより、音源からパートを抽出します\n",
        "            separator.separate_to_file('/content/drive/MyDrive/Colab_Notebooks/tmp/{}'.format(name), '/content/drive/MyDrive/Colab_Notebooks/spleeter_output/', codec=\"mp3\", bitrate=\"128k\")\n",
        "\n",
        "    delete_dir()\n",
        "\n",
        "if __name__ == \"__main__\":\n",
        "    init()\n",
        "    main()"
      ],
      "metadata": {
        "colab": {
          "base_uri": "https://localhost:8080/"
        },
        "id": "SZDWFuRMuLI8",
        "outputId": "55d24752-bf6f-4bc0-d5ed-9e058c8dac60"
      },
      "execution_count": 4,
      "outputs": [
        {
          "output_type": "stream",
          "name": "stdout",
          "text": [
            "/content/drive/MyDrive/Colab_Notebooks/music/gyutto.mp3\n",
            "/content/drive/MyDrive/Colab_Notebooks/music/koiuta.mp3\n",
            "/content/drive/MyDrive/Colab_Notebooks/music/love so sweet.mp3\n",
            "/content/drive/MyDrive/Colab_Notebooks/music/shinderaboy.mp3\n",
            "/content/drive/MyDrive/Colab_Notebooks/music/yoasobi.mp3\n",
            "5\n",
            "mode5:Vocal & Piano & Bass & Drums\n"
          ]
        },
        {
          "output_type": "stream",
          "name": "stderr",
          "text": [
            "INFO:spleeter:Downloading model archive https://github.com/deezer/spleeter/releases/download/v1.4.0/5stems.tar.gz\n",
            "INFO:spleeter:Validating archive checksum\n",
            "INFO:spleeter:Extracting downloaded 5stems archive\n",
            "INFO:spleeter:5stems model file(s) extracted\n"
          ]
        },
        {
          "output_type": "stream",
          "name": "stdout",
          "text": [
            "INFO:tensorflow:Using config: {'_model_dir': 'pretrained_models/5stems', '_tf_random_seed': None, '_save_summary_steps': 100, '_save_checkpoints_steps': None, '_save_checkpoints_secs': 600, '_session_config': gpu_options {\n",
            "  per_process_gpu_memory_fraction: 0.7\n",
            "}\n",
            ", '_keep_checkpoint_max': 5, '_keep_checkpoint_every_n_hours': 10000, '_log_step_count_steps': 100, '_train_distribute': None, '_device_fn': None, '_protocol': None, '_eval_distribute': None, '_experimental_distribute': None, '_experimental_max_worker_delay_secs': None, '_session_creation_timeout_secs': 7200, '_service': None, '_cluster_spec': ClusterSpec({}), '_task_type': 'worker', '_task_id': 0, '_global_id_in_cluster': 0, '_master': '', '_evaluation_master': '', '_is_chief': True, '_num_ps_replicas': 0, '_num_worker_replicas': 1}\n",
            "INFO:tensorflow:Calling model_fn.\n",
            "INFO:tensorflow:Apply unet for vocals_spectrogram\n",
            "INFO:tensorflow:Apply unet for piano_spectrogram\n",
            "INFO:tensorflow:Apply unet for drums_spectrogram\n",
            "INFO:tensorflow:Apply unet for bass_spectrogram\n",
            "INFO:tensorflow:Apply unet for other_spectrogram\n",
            "INFO:tensorflow:Done calling model_fn.\n",
            "INFO:tensorflow:Graph was finalized.\n",
            "INFO:tensorflow:Restoring parameters from pretrained_models/5stems/model\n",
            "INFO:tensorflow:Running local_init_op.\n",
            "INFO:tensorflow:Done running local_init_op.\n"
          ]
        },
        {
          "output_type": "stream",
          "name": "stderr",
          "text": [
            "INFO:spleeter:File /content/drive/MyDrive/Colab_Notebooks/spleeter_output/gyutto.mp3/vocals.mp3 written succesfully\n",
            "INFO:spleeter:File /content/drive/MyDrive/Colab_Notebooks/spleeter_output/gyutto.mp3/piano.mp3 written succesfully\n",
            "INFO:spleeter:File /content/drive/MyDrive/Colab_Notebooks/spleeter_output/gyutto.mp3/drums.mp3 written succesfully\n",
            "INFO:spleeter:File /content/drive/MyDrive/Colab_Notebooks/spleeter_output/gyutto.mp3/bass.mp3 written succesfully\n",
            "INFO:spleeter:File /content/drive/MyDrive/Colab_Notebooks/spleeter_output/gyutto.mp3/other.mp3 written succesfully\n"
          ]
        },
        {
          "output_type": "stream",
          "name": "stdout",
          "text": [
            "5\n",
            "mode5:Vocal & Piano & Bass & Drums\n",
            "INFO:tensorflow:Using config: {'_model_dir': 'pretrained_models/5stems', '_tf_random_seed': None, '_save_summary_steps': 100, '_save_checkpoints_steps': None, '_save_checkpoints_secs': 600, '_session_config': gpu_options {\n",
            "  per_process_gpu_memory_fraction: 0.7\n",
            "}\n",
            ", '_keep_checkpoint_max': 5, '_keep_checkpoint_every_n_hours': 10000, '_log_step_count_steps': 100, '_train_distribute': None, '_device_fn': None, '_protocol': None, '_eval_distribute': None, '_experimental_distribute': None, '_experimental_max_worker_delay_secs': None, '_session_creation_timeout_secs': 7200, '_service': None, '_cluster_spec': ClusterSpec({}), '_task_type': 'worker', '_task_id': 0, '_global_id_in_cluster': 0, '_master': '', '_evaluation_master': '', '_is_chief': True, '_num_ps_replicas': 0, '_num_worker_replicas': 1}\n",
            "INFO:tensorflow:Calling model_fn.\n",
            "INFO:tensorflow:Apply unet for vocals_spectrogram\n",
            "INFO:tensorflow:Apply unet for piano_spectrogram\n",
            "INFO:tensorflow:Apply unet for drums_spectrogram\n",
            "INFO:tensorflow:Apply unet for bass_spectrogram\n",
            "INFO:tensorflow:Apply unet for other_spectrogram\n"
          ]
        },
        {
          "output_type": "stream",
          "name": "stderr",
          "text": [
            "Exception ignored in: <generator object Estimator.predict at 0x7faf400c9450>\n",
            "Traceback (most recent call last):\n",
            "  File \"/usr/local/lib/python3.7/dist-packages/tensorflow_estimator/python/estimator/estimator.py\", line 641, in predict\n",
            "    for key, value in six.iteritems(preds_evaluated)\n",
            "  File \"/usr/lib/python3.7/contextlib.py\", line 130, in __exit__\n",
            "    self.gen.throw(type, value, traceback)\n",
            "  File \"/usr/local/lib/python3.7/dist-packages/tensorflow/python/framework/ops.py\", line 5588, in get_controller\n",
            "    yield g\n",
            "  File \"/usr/lib/python3.7/contextlib.py\", line 130, in __exit__\n",
            "    self.gen.throw(type, value, traceback)\n",
            "  File \"/usr/local/lib/python3.7/dist-packages/tensorflow/python/framework/ops.py\", line 5400, in get_controller\n",
            "    type(default))\n",
            "AssertionError: Nesting violated for default stack of <class 'tensorflow.python.framework.ops.Graph'> objects\n"
          ]
        },
        {
          "output_type": "stream",
          "name": "stdout",
          "text": [
            "INFO:tensorflow:Done calling model_fn.\n",
            "INFO:tensorflow:Graph was finalized.\n",
            "INFO:tensorflow:Restoring parameters from pretrained_models/5stems/model\n",
            "INFO:tensorflow:Running local_init_op.\n",
            "INFO:tensorflow:Done running local_init_op.\n"
          ]
        },
        {
          "output_type": "stream",
          "name": "stderr",
          "text": [
            "INFO:spleeter:File /content/drive/MyDrive/Colab_Notebooks/spleeter_output/koiuta.mp3/vocals.mp3 written succesfully\n",
            "INFO:spleeter:File /content/drive/MyDrive/Colab_Notebooks/spleeter_output/koiuta.mp3/piano.mp3 written succesfully\n",
            "INFO:spleeter:File /content/drive/MyDrive/Colab_Notebooks/spleeter_output/koiuta.mp3/bass.mp3 written succesfully\n",
            "INFO:spleeter:File /content/drive/MyDrive/Colab_Notebooks/spleeter_output/koiuta.mp3/drums.mp3 written succesfully\n",
            "INFO:spleeter:File /content/drive/MyDrive/Colab_Notebooks/spleeter_output/koiuta.mp3/other.mp3 written succesfully\n"
          ]
        },
        {
          "output_type": "stream",
          "name": "stdout",
          "text": [
            "5\n",
            "mode5:Vocal & Piano & Bass & Drums\n",
            "INFO:tensorflow:Using config: {'_model_dir': 'pretrained_models/5stems', '_tf_random_seed': None, '_save_summary_steps': 100, '_save_checkpoints_steps': None, '_save_checkpoints_secs': 600, '_session_config': gpu_options {\n",
            "  per_process_gpu_memory_fraction: 0.7\n",
            "}\n",
            ", '_keep_checkpoint_max': 5, '_keep_checkpoint_every_n_hours': 10000, '_log_step_count_steps': 100, '_train_distribute': None, '_device_fn': None, '_protocol': None, '_eval_distribute': None, '_experimental_distribute': None, '_experimental_max_worker_delay_secs': None, '_session_creation_timeout_secs': 7200, '_service': None, '_cluster_spec': ClusterSpec({}), '_task_type': 'worker', '_task_id': 0, '_global_id_in_cluster': 0, '_master': '', '_evaluation_master': '', '_is_chief': True, '_num_ps_replicas': 0, '_num_worker_replicas': 1}\n",
            "INFO:tensorflow:Calling model_fn.\n",
            "INFO:tensorflow:Apply unet for vocals_spectrogram\n",
            "INFO:tensorflow:Apply unet for piano_spectrogram\n",
            "INFO:tensorflow:Apply unet for drums_spectrogram\n",
            "INFO:tensorflow:Apply unet for bass_spectrogram\n",
            "INFO:tensorflow:Apply unet for other_spectrogram\n"
          ]
        },
        {
          "output_type": "stream",
          "name": "stderr",
          "text": [
            "Exception ignored in: <generator object Estimator.predict at 0x7faeea42fc50>\n",
            "Traceback (most recent call last):\n",
            "  File \"/usr/local/lib/python3.7/dist-packages/tensorflow_estimator/python/estimator/estimator.py\", line 641, in predict\n",
            "    for key, value in six.iteritems(preds_evaluated)\n",
            "  File \"/usr/lib/python3.7/contextlib.py\", line 130, in __exit__\n",
            "    self.gen.throw(type, value, traceback)\n",
            "  File \"/usr/local/lib/python3.7/dist-packages/tensorflow/python/framework/ops.py\", line 5588, in get_controller\n",
            "    yield g\n",
            "  File \"/usr/lib/python3.7/contextlib.py\", line 130, in __exit__\n",
            "    self.gen.throw(type, value, traceback)\n",
            "  File \"/usr/local/lib/python3.7/dist-packages/tensorflow/python/framework/ops.py\", line 5400, in get_controller\n",
            "    type(default))\n",
            "AssertionError: Nesting violated for default stack of <class 'tensorflow.python.framework.ops.Graph'> objects\n"
          ]
        },
        {
          "output_type": "stream",
          "name": "stdout",
          "text": [
            "INFO:tensorflow:Done calling model_fn.\n",
            "INFO:tensorflow:Graph was finalized.\n",
            "INFO:tensorflow:Restoring parameters from pretrained_models/5stems/model\n",
            "INFO:tensorflow:Running local_init_op.\n",
            "INFO:tensorflow:Done running local_init_op.\n"
          ]
        },
        {
          "output_type": "stream",
          "name": "stderr",
          "text": [
            "INFO:spleeter:File /content/drive/MyDrive/Colab_Notebooks/spleeter_output/love so sweet.mp3/piano.mp3 written succesfully\n",
            "INFO:spleeter:File /content/drive/MyDrive/Colab_Notebooks/spleeter_output/love so sweet.mp3/vocals.mp3 written succesfully\n",
            "INFO:spleeter:File /content/drive/MyDrive/Colab_Notebooks/spleeter_output/love so sweet.mp3/bass.mp3 written succesfully\n",
            "INFO:spleeter:File /content/drive/MyDrive/Colab_Notebooks/spleeter_output/love so sweet.mp3/drums.mp3 written succesfully\n",
            "INFO:spleeter:File /content/drive/MyDrive/Colab_Notebooks/spleeter_output/love so sweet.mp3/other.mp3 written succesfully\n"
          ]
        },
        {
          "output_type": "stream",
          "name": "stdout",
          "text": [
            "5\n",
            "mode5:Vocal & Piano & Bass & Drums\n",
            "INFO:tensorflow:Using config: {'_model_dir': 'pretrained_models/5stems', '_tf_random_seed': None, '_save_summary_steps': 100, '_save_checkpoints_steps': None, '_save_checkpoints_secs': 600, '_session_config': gpu_options {\n",
            "  per_process_gpu_memory_fraction: 0.7\n",
            "}\n",
            ", '_keep_checkpoint_max': 5, '_keep_checkpoint_every_n_hours': 10000, '_log_step_count_steps': 100, '_train_distribute': None, '_device_fn': None, '_protocol': None, '_eval_distribute': None, '_experimental_distribute': None, '_experimental_max_worker_delay_secs': None, '_session_creation_timeout_secs': 7200, '_service': None, '_cluster_spec': ClusterSpec({}), '_task_type': 'worker', '_task_id': 0, '_global_id_in_cluster': 0, '_master': '', '_evaluation_master': '', '_is_chief': True, '_num_ps_replicas': 0, '_num_worker_replicas': 1}\n",
            "INFO:tensorflow:Calling model_fn.\n",
            "INFO:tensorflow:Apply unet for vocals_spectrogram\n",
            "INFO:tensorflow:Apply unet for piano_spectrogram\n",
            "INFO:tensorflow:Apply unet for drums_spectrogram\n",
            "INFO:tensorflow:Apply unet for bass_spectrogram\n",
            "INFO:tensorflow:Apply unet for other_spectrogram\n",
            "INFO:tensorflow:Done calling model_fn.\n",
            "INFO:tensorflow:Graph was finalized.\n",
            "INFO:tensorflow:Restoring parameters from pretrained_models/5stems/model\n",
            "INFO:tensorflow:Running local_init_op.\n",
            "INFO:tensorflow:Done running local_init_op.\n"
          ]
        },
        {
          "output_type": "stream",
          "name": "stderr",
          "text": [
            "INFO:spleeter:File /content/drive/MyDrive/Colab_Notebooks/spleeter_output/shinderaboy.mp3/piano.mp3 written succesfully\n",
            "INFO:spleeter:File /content/drive/MyDrive/Colab_Notebooks/spleeter_output/shinderaboy.mp3/vocals.mp3 written succesfully\n",
            "INFO:spleeter:File /content/drive/MyDrive/Colab_Notebooks/spleeter_output/shinderaboy.mp3/bass.mp3 written succesfully\n",
            "INFO:spleeter:File /content/drive/MyDrive/Colab_Notebooks/spleeter_output/shinderaboy.mp3/drums.mp3 written succesfully\n",
            "INFO:spleeter:File /content/drive/MyDrive/Colab_Notebooks/spleeter_output/shinderaboy.mp3/other.mp3 written succesfully\n"
          ]
        },
        {
          "output_type": "stream",
          "name": "stdout",
          "text": [
            "5\n",
            "mode5:Vocal & Piano & Bass & Drums\n",
            "INFO:tensorflow:Using config: {'_model_dir': 'pretrained_models/5stems', '_tf_random_seed': None, '_save_summary_steps': 100, '_save_checkpoints_steps': None, '_save_checkpoints_secs': 600, '_session_config': gpu_options {\n",
            "  per_process_gpu_memory_fraction: 0.7\n",
            "}\n",
            ", '_keep_checkpoint_max': 5, '_keep_checkpoint_every_n_hours': 10000, '_log_step_count_steps': 100, '_train_distribute': None, '_device_fn': None, '_protocol': None, '_eval_distribute': None, '_experimental_distribute': None, '_experimental_max_worker_delay_secs': None, '_session_creation_timeout_secs': 7200, '_service': None, '_cluster_spec': ClusterSpec({}), '_task_type': 'worker', '_task_id': 0, '_global_id_in_cluster': 0, '_master': '', '_evaluation_master': '', '_is_chief': True, '_num_ps_replicas': 0, '_num_worker_replicas': 1}\n",
            "INFO:tensorflow:Calling model_fn.\n",
            "INFO:tensorflow:Apply unet for vocals_spectrogram\n"
          ]
        },
        {
          "output_type": "stream",
          "name": "stderr",
          "text": [
            "Exception ignored in: <generator object Estimator.predict at 0x7faede580ed0>\n",
            "Traceback (most recent call last):\n",
            "  File \"/usr/local/lib/python3.7/dist-packages/tensorflow_estimator/python/estimator/estimator.py\", line 641, in predict\n",
            "    for key, value in six.iteritems(preds_evaluated)\n",
            "  File \"/usr/lib/python3.7/contextlib.py\", line 130, in __exit__\n",
            "    self.gen.throw(type, value, traceback)\n",
            "  File \"/usr/local/lib/python3.7/dist-packages/tensorflow/python/framework/ops.py\", line 5588, in get_controller\n",
            "    yield g\n",
            "  File \"/usr/lib/python3.7/contextlib.py\", line 130, in __exit__\n",
            "    self.gen.throw(type, value, traceback)\n",
            "  File \"/usr/local/lib/python3.7/dist-packages/tensorflow/python/framework/ops.py\", line 5400, in get_controller\n",
            "    type(default))\n",
            "AssertionError: Nesting violated for default stack of <class 'tensorflow.python.framework.ops.Graph'> objects\n",
            "Exception ignored in: <generator object Estimator.predict at 0x7faede708450>\n",
            "Traceback (most recent call last):\n",
            "  File \"/usr/local/lib/python3.7/dist-packages/tensorflow_estimator/python/estimator/estimator.py\", line 641, in predict\n",
            "    for key, value in six.iteritems(preds_evaluated)\n",
            "  File \"/usr/lib/python3.7/contextlib.py\", line 130, in __exit__\n",
            "    self.gen.throw(type, value, traceback)\n",
            "  File \"/usr/local/lib/python3.7/dist-packages/tensorflow/python/framework/ops.py\", line 5588, in get_controller\n",
            "    yield g\n",
            "  File \"/usr/lib/python3.7/contextlib.py\", line 130, in __exit__\n",
            "    self.gen.throw(type, value, traceback)\n",
            "  File \"/usr/local/lib/python3.7/dist-packages/tensorflow/python/framework/ops.py\", line 5400, in get_controller\n",
            "    type(default))\n",
            "AssertionError: Nesting violated for default stack of <class 'tensorflow.python.framework.ops.Graph'> objects\n"
          ]
        },
        {
          "output_type": "stream",
          "name": "stdout",
          "text": [
            "INFO:tensorflow:Apply unet for piano_spectrogram\n",
            "INFO:tensorflow:Apply unet for drums_spectrogram\n",
            "INFO:tensorflow:Apply unet for bass_spectrogram\n",
            "INFO:tensorflow:Apply unet for other_spectrogram\n",
            "INFO:tensorflow:Done calling model_fn.\n",
            "INFO:tensorflow:Graph was finalized.\n",
            "INFO:tensorflow:Restoring parameters from pretrained_models/5stems/model\n",
            "INFO:tensorflow:Running local_init_op.\n",
            "INFO:tensorflow:Done running local_init_op.\n"
          ]
        },
        {
          "output_type": "stream",
          "name": "stderr",
          "text": [
            "INFO:spleeter:File /content/drive/MyDrive/Colab_Notebooks/spleeter_output/yoasobi.mp3/piano.mp3 written succesfully\n",
            "INFO:spleeter:File /content/drive/MyDrive/Colab_Notebooks/spleeter_output/yoasobi.mp3/vocals.mp3 written succesfully\n",
            "INFO:spleeter:File /content/drive/MyDrive/Colab_Notebooks/spleeter_output/yoasobi.mp3/bass.mp3 written succesfully\n",
            "INFO:spleeter:File /content/drive/MyDrive/Colab_Notebooks/spleeter_output/yoasobi.mp3/drums.mp3 written succesfully\n",
            "INFO:spleeter:File /content/drive/MyDrive/Colab_Notebooks/spleeter_output/yoasobi.mp3/other.mp3 written succesfully\n"
          ]
        }
      ]
    },
    {
      "cell_type": "markdown",
      "source": [
        "④結合\n",
        "pydubをインストールしてあるので、コマンドを打つことで結合できる。"
      ],
      "metadata": {
        "id": "SV-r2jp2Xpya"
      }
    },
    {
      "cell_type": "code",
      "source": [
        "from pydub import AudioSegment\n",
        "\n",
        "sound1 = AudioSegment.from_file(\"/content/drive/MyDrive/Colab_Notebooks/spleeter_output/gyutto.mp3/vocals.mp3\")\n",
        "sound2 = AudioSegment.from_file(\"/content/drive/MyDrive/Colab_Notebooks/spleeter_output/love so sweet.mp3/bass.mp3\")\n",
        "sound3 = AudioSegment.from_file(\"/content/drive/MyDrive/Colab_Notebooks/spleeter_output/yoasobi.mp3/other.mp3\")\n",
        "sound4 = AudioSegment.from_file(\"/content/drive/MyDrive/Colab_Notebooks/spleeter_output/koiuta.mp3/piano.mp3\")\n",
        "sound5 = AudioSegment.from_file(\"/content/drive/MyDrive/Colab_Notebooks/spleeter_output/shinderaboy.mp3/drums.mp3\")\n",
        "\n",
        "output = sound1 + sound2 + sound3 + sound4 + sound5\n",
        "\n",
        "# save the result\n",
        "output.export(\"mixed_sounds.wav\", format=\"wav\")"
      ],
      "metadata": {
        "id": "nXW-5vk1XoXR",
        "colab": {
          "base_uri": "https://localhost:8080/"
        },
        "outputId": "ba198619-078d-49b4-fc52-661f0564917a"
      },
      "execution_count": 13,
      "outputs": [
        {
          "output_type": "execute_result",
          "data": {
            "text/plain": [
              "<_io.BufferedRandom name='mixed_sounds.wav'>"
            ]
          },
          "metadata": {},
          "execution_count": 13
        }
      ]
    }
  ]
}